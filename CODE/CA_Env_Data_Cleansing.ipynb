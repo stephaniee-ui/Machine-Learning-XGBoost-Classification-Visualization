{
 "cells": [
  {
   "cell_type": "markdown",
   "id": "240eb548-d398-4c2d-943d-0bb134a23a68",
   "metadata": {},
   "source": [
    "## Data Cleansing for California Environmental Data"
   ]
  },
  {
   "cell_type": "code",
   "execution_count": 2,
   "id": "7f6a779d-80a9-4602-a70a-9f1ee2698245",
   "metadata": {},
   "outputs": [],
   "source": [
    "import pandas as pd\n",
    "from ydata_profiling import ProfileReport"
   ]
  },
  {
   "cell_type": "code",
   "execution_count": 6,
   "id": "93ed47ea-7f3e-4b34-a298-f9d9ce5eefb6",
   "metadata": {},
   "outputs": [],
   "source": [
    "#!pip install liac-arff\n",
    "import arff\n",
    "\n",
    "with open('CA_enviromental', 'r') as f:\n",
    "    data = arff.load(f)\n",
    "df = pd.DataFrame(data['data'], columns=[attr[0] for attr in data['attributes']])"
   ]
  },
  {
   "cell_type": "code",
   "execution_count": 7,
   "id": "f7c0a888-d672-4522-be56-d46007375ee5",
   "metadata": {},
   "outputs": [
    {
     "data": {
      "text/html": [
       "<div>\n",
       "<style scoped>\n",
       "    .dataframe tbody tr th:only-of-type {\n",
       "        vertical-align: middle;\n",
       "    }\n",
       "\n",
       "    .dataframe tbody tr th {\n",
       "        vertical-align: top;\n",
       "    }\n",
       "\n",
       "    .dataframe thead th {\n",
       "        text-align: right;\n",
       "    }\n",
       "</style>\n",
       "<table border=\"1\" class=\"dataframe\">\n",
       "  <thead>\n",
       "    <tr style=\"text-align: right;\">\n",
       "      <th></th>\n",
       "      <th>Stn_Id</th>\n",
       "      <th>Stn_Name</th>\n",
       "      <th>CIMIS_Region</th>\n",
       "      <th>Date</th>\n",
       "      <th>ETo_(in)</th>\n",
       "      <th>Precip_(in)</th>\n",
       "      <th>Sol_Rad_(Ly/day)</th>\n",
       "      <th>Avg_Vap_Pres_(mBars)</th>\n",
       "      <th>Max_Air_Temp_(F)</th>\n",
       "      <th>Min_Air_Temp_(F)</th>\n",
       "      <th>Avg_Air_Temp_(F)</th>\n",
       "      <th>Max_Rel_Hum_(%)</th>\n",
       "      <th>Min_Rel_Hum_(%)</th>\n",
       "      <th>Avg_Rel_Hum_(%)</th>\n",
       "      <th>Dew_Point_(F)</th>\n",
       "      <th>Avg_Wind_Speed_(mph)</th>\n",
       "      <th>Wind_Run_(miles)</th>\n",
       "      <th>Avg_Soil_Temp_(F)</th>\n",
       "      <th>Target</th>\n",
       "    </tr>\n",
       "  </thead>\n",
       "  <tbody>\n",
       "    <tr>\n",
       "      <th>0</th>\n",
       "      <td>2</td>\n",
       "      <td>FivePoints</td>\n",
       "      <td>San Joaquin Valley</td>\n",
       "      <td>1/1/2018</td>\n",
       "      <td>0.06</td>\n",
       "      <td>0.0</td>\n",
       "      <td>219.0</td>\n",
       "      <td>7.3</td>\n",
       "      <td>63.4</td>\n",
       "      <td>35.3</td>\n",
       "      <td>47.8</td>\n",
       "      <td>82.0</td>\n",
       "      <td>46.0</td>\n",
       "      <td>65.0</td>\n",
       "      <td>36.6</td>\n",
       "      <td>3.3</td>\n",
       "      <td>78.3</td>\n",
       "      <td>51.1</td>\n",
       "      <td>0</td>\n",
       "    </tr>\n",
       "    <tr>\n",
       "      <th>1</th>\n",
       "      <td>2</td>\n",
       "      <td>FivePoints</td>\n",
       "      <td>San Joaquin Valley</td>\n",
       "      <td>1/2/2018</td>\n",
       "      <td>0.04</td>\n",
       "      <td>0.0</td>\n",
       "      <td>127.0</td>\n",
       "      <td>7.4</td>\n",
       "      <td>59.8</td>\n",
       "      <td>37.7</td>\n",
       "      <td>47.2</td>\n",
       "      <td>80.0</td>\n",
       "      <td>52.0</td>\n",
       "      <td>67.0</td>\n",
       "      <td>36.7</td>\n",
       "      <td>3.1</td>\n",
       "      <td>74.5</td>\n",
       "      <td>51.3</td>\n",
       "      <td>0</td>\n",
       "    </tr>\n",
       "    <tr>\n",
       "      <th>2</th>\n",
       "      <td>2</td>\n",
       "      <td>FivePoints</td>\n",
       "      <td>San Joaquin Valley</td>\n",
       "      <td>1/3/2018</td>\n",
       "      <td>0.04</td>\n",
       "      <td>0.0</td>\n",
       "      <td>125.0</td>\n",
       "      <td>8.4</td>\n",
       "      <td>61.1</td>\n",
       "      <td>37.3</td>\n",
       "      <td>49.9</td>\n",
       "      <td>79.0</td>\n",
       "      <td>49.0</td>\n",
       "      <td>68.0</td>\n",
       "      <td>39.9</td>\n",
       "      <td>4.5</td>\n",
       "      <td>107.5</td>\n",
       "      <td>51.3</td>\n",
       "      <td>0</td>\n",
       "    </tr>\n",
       "  </tbody>\n",
       "</table>\n",
       "</div>"
      ],
      "text/plain": [
       "   Stn_Id    Stn_Name        CIMIS_Region      Date  ETo_(in)  Precip_(in)  \\\n",
       "0       2  FivePoints  San Joaquin Valley  1/1/2018      0.06          0.0   \n",
       "1       2  FivePoints  San Joaquin Valley  1/2/2018      0.04          0.0   \n",
       "2       2  FivePoints  San Joaquin Valley  1/3/2018      0.04          0.0   \n",
       "\n",
       "   Sol_Rad_(Ly/day)  Avg_Vap_Pres_(mBars)  Max_Air_Temp_(F)  Min_Air_Temp_(F)  \\\n",
       "0             219.0                   7.3              63.4              35.3   \n",
       "1             127.0                   7.4              59.8              37.7   \n",
       "2             125.0                   8.4              61.1              37.3   \n",
       "\n",
       "   Avg_Air_Temp_(F)  Max_Rel_Hum_(%)  Min_Rel_Hum_(%)  Avg_Rel_Hum_(%)  \\\n",
       "0              47.8             82.0             46.0             65.0   \n",
       "1              47.2             80.0             52.0             67.0   \n",
       "2              49.9             79.0             49.0             68.0   \n",
       "\n",
       "   Dew_Point_(F)  Avg_Wind_Speed_(mph)  Wind_Run_(miles)  Avg_Soil_Temp_(F)  \\\n",
       "0           36.6                   3.3              78.3               51.1   \n",
       "1           36.7                   3.1              74.5               51.3   \n",
       "2           39.9                   4.5             107.5               51.3   \n",
       "\n",
       "   Target  \n",
       "0       0  \n",
       "1       0  \n",
       "2       0  "
      ]
     },
     "metadata": {},
     "output_type": "display_data"
    },
    {
     "name": "stdout",
     "output_type": "stream",
     "text": [
      "<class 'pandas.core.frame.DataFrame'>\n",
      "RangeIndex: 128125 entries, 0 to 128124\n",
      "Data columns (total 19 columns):\n",
      " #   Column                Non-Null Count   Dtype  \n",
      "---  ------                --------------   -----  \n",
      " 0   Stn_Id                128125 non-null  int64  \n",
      " 1   Stn_Name              128125 non-null  object \n",
      " 2   CIMIS_Region          128125 non-null  object \n",
      " 3   Date                  128125 non-null  object \n",
      " 4   ETo_(in)              128042 non-null  float64\n",
      " 5   Precip_(in)           128125 non-null  float64\n",
      " 6   Sol_Rad_(Ly/day)      128125 non-null  float64\n",
      " 7   Avg_Vap_Pres_(mBars)  128125 non-null  float64\n",
      " 8   Max_Air_Temp_(F)      128122 non-null  float64\n",
      " 9   Min_Air_Temp_(F)      128124 non-null  float64\n",
      " 10  Avg_Air_Temp_(F)      128120 non-null  float64\n",
      " 11  Max_Rel_Hum_(%)       128125 non-null  float64\n",
      " 12  Min_Rel_Hum_(%)       128125 non-null  float64\n",
      " 13  Avg_Rel_Hum_(%)       128112 non-null  float64\n",
      " 14  Dew_Point_(F)         128112 non-null  float64\n",
      " 15  Avg_Wind_Speed_(mph)  128125 non-null  float64\n",
      " 16  Wind_Run_(miles)      128125 non-null  float64\n",
      " 17  Avg_Soil_Temp_(F)     128105 non-null  float64\n",
      " 18  Target                128125 non-null  int64  \n",
      "dtypes: float64(14), int64(2), object(3)\n",
      "memory usage: 18.6+ MB\n",
      "None\n"
     ]
    }
   ],
   "source": [
    "display(df.head(3))\n",
    "print(df.info())"
   ]
  },
  {
   "cell_type": "code",
   "execution_count": 11,
   "id": "4ad6e784-44ab-4eb2-b532-cd54564b74ca",
   "metadata": {},
   "outputs": [
    {
     "name": "stdout",
     "output_type": "stream",
     "text": [
      "                      Missing Values  Missing Percentage\n",
      "Stn_Id                             0            0.000000\n",
      "Stn_Name                           0            0.000000\n",
      "CIMIS_Region                       0            0.000000\n",
      "Date                               0            0.000000\n",
      "ETo_(in)                          83            0.064780\n",
      "Precip_(in)                        0            0.000000\n",
      "Sol_Rad_(Ly/day)                   0            0.000000\n",
      "Avg_Vap_Pres_(mBars)               0            0.000000\n",
      "Max_Air_Temp_(F)                   3            0.002341\n",
      "Min_Air_Temp_(F)                   1            0.000780\n",
      "Avg_Air_Temp_(F)                   5            0.003902\n",
      "Max_Rel_Hum_(%)                    0            0.000000\n",
      "Min_Rel_Hum_(%)                    0            0.000000\n",
      "Avg_Rel_Hum_(%)                   13            0.010146\n",
      "Dew_Point_(F)                     13            0.010146\n",
      "Avg_Wind_Speed_(mph)               0            0.000000\n",
      "Wind_Run_(miles)                   0            0.000000\n",
      "Avg_Soil_Temp_(F)                 20            0.015610\n",
      "Target                             0            0.000000\n"
     ]
    }
   ],
   "source": [
    "# Missing Values Count & Percentage\n",
    "missing_percentage = df.isna().mean() * 100\n",
    "missing_info = pd.DataFrame({\n",
    "    'Missing Values': df.isna().sum(),\n",
    "    'Missing Percentage': missing_percentage\n",
    "})\n",
    "print(missing_info)\n",
    "# No Missing Data for the Response & vary few missing values for 7 features."
   ]
  },
  {
   "cell_type": "code",
   "execution_count": 17,
   "id": "dff551c7-4ca7-4d72-8c2d-594c8b1ddb35",
   "metadata": {},
   "outputs": [],
   "source": [
    "# Missing values only account for less than 0.1% of total data, thus remove the rows with missing values.\n",
    "df = df.dropna()\n",
    "\n",
    "# Drop Duplicate Rows\n",
    "df = df.drop_duplicates()"
   ]
  },
  {
   "cell_type": "code",
   "execution_count": 18,
   "id": "c3bf8782-b524-4086-b6b9-1e239cc42a31",
   "metadata": {},
   "outputs": [
    {
     "data": {
      "application/vnd.jupyter.widget-view+json": {
       "model_id": "f3370eca135a4cca9df3102f3d576ef6",
       "version_major": 2,
       "version_minor": 0
      },
      "text/plain": [
       "Summarize dataset:   0%|          | 0/5 [00:00<?, ?it/s]"
      ]
     },
     "metadata": {},
     "output_type": "display_data"
    },
    {
     "data": {
      "application/vnd.jupyter.widget-view+json": {
       "model_id": "0b642d2ac8724420a45379cf86044de5",
       "version_major": 2,
       "version_minor": 0
      },
      "text/plain": [
       "Generate report structure:   0%|          | 0/1 [00:00<?, ?it/s]"
      ]
     },
     "metadata": {},
     "output_type": "display_data"
    },
    {
     "data": {
      "application/vnd.jupyter.widget-view+json": {
       "model_id": "71604ff69d984b5d979eed9384f558fd",
       "version_major": 2,
       "version_minor": 0
      },
      "text/plain": [
       "Render HTML:   0%|          | 0/1 [00:00<?, ?it/s]"
      ]
     },
     "metadata": {},
     "output_type": "display_data"
    },
    {
     "data": {
      "application/vnd.jupyter.widget-view+json": {
       "model_id": "603af3bed6b642569e38ac02be10d7bf",
       "version_major": 2,
       "version_minor": 0
      },
      "text/plain": [
       "Export report to file:   0%|          | 0/1 [00:00<?, ?it/s]"
      ]
     },
     "metadata": {},
     "output_type": "display_data"
    }
   ],
   "source": [
    "# Basic Data Profiling\n",
    "profile = ProfileReport(df, title=\"CA_Environmental_Profiling_Report\")\n",
    "profile.to_file(\"CA_Environmental_Profiling_Report.html\")"
   ]
  },
  {
   "cell_type": "code",
   "execution_count": 19,
   "id": "4cf2712e-55c7-46be-b1e7-dd18bed87e6b",
   "metadata": {},
   "outputs": [],
   "source": [
    "df.to_csv('Cleaned_CA_Env_Data.csv', index=False)"
   ]
  }
 ],
 "metadata": {
  "kernelspec": {
   "display_name": "Python 3 (ipykernel)",
   "language": "python",
   "name": "python3"
  },
  "language_info": {
   "codemirror_mode": {
    "name": "ipython",
    "version": 3
   },
   "file_extension": ".py",
   "mimetype": "text/x-python",
   "name": "python",
   "nbconvert_exporter": "python",
   "pygments_lexer": "ipython3",
   "version": "3.12.3"
  }
 },
 "nbformat": 4,
 "nbformat_minor": 5
}
